{
 "cells": [
  {
   "cell_type": "markdown",
   "metadata": {
    "id": "c7Hmj6M1xkph"
   },
   "source": [
    "# DAYCON COIN TRADER\n",
    "\n",
    "### 암호화폐 가격 예측\n",
    "\n",
    "#### 10가지 종류의 암호화폐 가격을 예측하여 가장 수익율이 높은 모델 만들기\n",
    "\n",
    "#### 데이터셋\n",
    "\n",
    "- **train_x_df** : 임의의 시점부터 2020년 12월 31일까지 10가지 종류의 암호화폐 분단위 정보를 가공한 데이터\n",
    "\n",
    "- **train_y_df** : 임의의 시점부터 2020년 12월 31일까지 10가지 종류의 암호화폐 분단위 가격정보를 가공한 데이터\n",
    "\n",
    "- **test_x_df** : 2021년 1월 1일부터 임의의 시점까지 10가지 종류의 암호화폐 분단위 가격정보를 가공한 데이터\n",
    "\n",
    "\n",
    "- 학습용 데이터는 10가지 종류의 코인을 포함하는 7362가지의 sample이 담겨있으며 train_x_df는 입력 23시간 동안의 분단위 데이터, train_y_df는 출력 2시간 동안의 분단위 데이터이다.\n",
    "\n",
    "- test_x는 train_x과 동일한 구성을 갖는 529가지의 sample을 의미하며 해당 sample_id에 대해 매수량(buy_quantity)와 매도 시점(sell_time)을 결정해야한다."
   ]
  },
  {
   "cell_type": "markdown",
   "metadata": {
    "id": "WV7pVwWZxkpn"
   },
   "source": [
    "### 파일 불러오기"
   ]
  },
  {
   "cell_type": "code",
   "execution_count": 138,
   "metadata": {
    "executionInfo": {
     "elapsed": 1788,
     "status": "ok",
     "timestamp": 1618217603640,
     "user": {
      "displayName": "전태양",
      "photoUrl": "",
      "userId": "11666989130411654523"
     },
     "user_tz": -540
    },
    "id": "V46mkFSGxkpo"
   },
   "outputs": [],
   "source": [
    "import numpy as np\n",
    "import pandas as pd\n",
    "import matplotlib.pyplot as plt\n",
    "import seaborn as sns\n",
    "import warnings\n",
    "warnings.filterwarnings('ignore')"
   ]
  },
  {
   "cell_type": "code",
   "execution_count": 139,
   "metadata": {
    "colab": {
     "base_uri": "https://localhost:8080/"
    },
    "executionInfo": {
     "elapsed": 2597,
     "status": "ok",
     "timestamp": 1618217604456,
     "user": {
      "displayName": "전태양",
      "photoUrl": "",
      "userId": "11666989130411654523"
     },
     "user_tz": -540
    },
    "id": "fEU6uhgOyNyQ",
    "outputId": "89948f51-db38-458f-830a-b2ba6f4cb976"
   },
   "outputs": [
    {
     "name": "stdout",
     "output_type": "stream",
     "text": [
      "Drive already mounted at /content/drive; to attempt to forcibly remount, call drive.mount(\"/content/drive\", force_remount=True).\n"
     ]
    }
   ],
   "source": [
    "from google.colab import drive\n",
    "drive.mount('/content/drive')"
   ]
  },
  {
   "cell_type": "code",
   "execution_count": 140,
   "metadata": {
    "executionInfo": {
     "elapsed": 25459,
     "status": "ok",
     "timestamp": 1618217627323,
     "user": {
      "displayName": "전태양",
      "photoUrl": "",
      "userId": "11666989130411654523"
     },
     "user_tz": -540
    },
    "id": "8Xpy_fjdyNmU"
   },
   "outputs": [],
   "source": [
    "train_x_df = pd.read_csv('/content/drive/MyDrive/Daycon/train_x_df.csv')\n",
    "train_y_df = pd.read_csv('/content/drive/MyDrive/Daycon/train_y_df.csv')\n",
    "test_x_df = pd.read_csv('/content/drive/MyDrive/Daycon/test_x_df.csv')"
   ]
  },
  {
   "cell_type": "code",
   "execution_count": 141,
   "metadata": {
    "colab": {
     "base_uri": "https://localhost:8080/",
     "height": 195
    },
    "executionInfo": {
     "elapsed": 25460,
     "status": "ok",
     "timestamp": 1618217627330,
     "user": {
      "displayName": "전태양",
      "photoUrl": "",
      "userId": "11666989130411654523"
     },
     "user_tz": -540
    },
    "id": "02qKHMXsxkpp",
    "outputId": "8a5d76ab-1bd6-4a7e-f225-2f38fe0ae006"
   },
   "outputs": [
    {
     "data": {
      "text/html": [
       "<div>\n",
       "<style scoped>\n",
       "    .dataframe tbody tr th:only-of-type {\n",
       "        vertical-align: middle;\n",
       "    }\n",
       "\n",
       "    .dataframe tbody tr th {\n",
       "        vertical-align: top;\n",
       "    }\n",
       "\n",
       "    .dataframe thead th {\n",
       "        text-align: right;\n",
       "    }\n",
       "</style>\n",
       "<table border=\"1\" class=\"dataframe\">\n",
       "  <thead>\n",
       "    <tr style=\"text-align: right;\">\n",
       "      <th></th>\n",
       "      <th>sample_id</th>\n",
       "      <th>time</th>\n",
       "      <th>coin_index</th>\n",
       "      <th>open</th>\n",
       "      <th>high</th>\n",
       "      <th>low</th>\n",
       "      <th>close</th>\n",
       "      <th>volume</th>\n",
       "      <th>quote_av</th>\n",
       "      <th>trades</th>\n",
       "      <th>tb_base_av</th>\n",
       "      <th>tb_quote_av</th>\n",
       "    </tr>\n",
       "  </thead>\n",
       "  <tbody>\n",
       "    <tr>\n",
       "      <th>0</th>\n",
       "      <td>0</td>\n",
       "      <td>0</td>\n",
       "      <td>7</td>\n",
       "      <td>1.010004</td>\n",
       "      <td>1.010004</td>\n",
       "      <td>1.009612</td>\n",
       "      <td>1.010004</td>\n",
       "      <td>8.382875e+05</td>\n",
       "      <td>43160.632812</td>\n",
       "      <td>451.157288</td>\n",
       "      <td>7.326834e+05</td>\n",
       "      <td>37725.183594</td>\n",
       "    </tr>\n",
       "    <tr>\n",
       "      <th>1</th>\n",
       "      <td>0</td>\n",
       "      <td>1</td>\n",
       "      <td>7</td>\n",
       "      <td>1.009808</td>\n",
       "      <td>1.009808</td>\n",
       "      <td>1.009808</td>\n",
       "      <td>1.009808</td>\n",
       "      <td>1.622420e+05</td>\n",
       "      <td>8352.220703</td>\n",
       "      <td>39.231071</td>\n",
       "      <td>0.000000e+00</td>\n",
       "      <td>0.000000</td>\n",
       "    </tr>\n",
       "    <tr>\n",
       "      <th>2</th>\n",
       "      <td>0</td>\n",
       "      <td>2</td>\n",
       "      <td>7</td>\n",
       "      <td>1.009808</td>\n",
       "      <td>1.010200</td>\n",
       "      <td>1.009808</td>\n",
       "      <td>1.010200</td>\n",
       "      <td>1.664967e+04</td>\n",
       "      <td>857.377808</td>\n",
       "      <td>58.846603</td>\n",
       "      <td>1.664967e+04</td>\n",
       "      <td>857.377808</td>\n",
       "    </tr>\n",
       "    <tr>\n",
       "      <th>3</th>\n",
       "      <td>0</td>\n",
       "      <td>3</td>\n",
       "      <td>7</td>\n",
       "      <td>1.010200</td>\n",
       "      <td>1.011181</td>\n",
       "      <td>1.010200</td>\n",
       "      <td>1.011181</td>\n",
       "      <td>2.586971e+06</td>\n",
       "      <td>133310.343750</td>\n",
       "      <td>431.541779</td>\n",
       "      <td>2.189147e+06</td>\n",
       "      <td>112811.046875</td>\n",
       "    </tr>\n",
       "    <tr>\n",
       "      <th>4</th>\n",
       "      <td>0</td>\n",
       "      <td>4</td>\n",
       "      <td>7</td>\n",
       "      <td>1.010985</td>\n",
       "      <td>1.010985</td>\n",
       "      <td>1.010200</td>\n",
       "      <td>1.010200</td>\n",
       "      <td>1.129996e+06</td>\n",
       "      <td>58216.867188</td>\n",
       "      <td>176.539810</td>\n",
       "      <td>0.000000e+00</td>\n",
       "      <td>0.000000</td>\n",
       "    </tr>\n",
       "  </tbody>\n",
       "</table>\n",
       "</div>"
      ],
      "text/plain": [
       "   sample_id  time  coin_index  ...      trades    tb_base_av    tb_quote_av\n",
       "0          0     0           7  ...  451.157288  7.326834e+05   37725.183594\n",
       "1          0     1           7  ...   39.231071  0.000000e+00       0.000000\n",
       "2          0     2           7  ...   58.846603  1.664967e+04     857.377808\n",
       "3          0     3           7  ...  431.541779  2.189147e+06  112811.046875\n",
       "4          0     4           7  ...  176.539810  0.000000e+00       0.000000\n",
       "\n",
       "[5 rows x 12 columns]"
      ]
     },
     "execution_count": 141,
     "metadata": {
      "tags": []
     },
     "output_type": "execute_result"
    }
   ],
   "source": [
    "train_x_df.head()"
   ]
  },
  {
   "cell_type": "code",
   "execution_count": 142,
   "metadata": {
    "colab": {
     "base_uri": "https://localhost:8080/",
     "height": 195
    },
    "executionInfo": {
     "elapsed": 25453,
     "status": "ok",
     "timestamp": 1618217627332,
     "user": {
      "displayName": "전태양",
      "photoUrl": "",
      "userId": "11666989130411654523"
     },
     "user_tz": -540
    },
    "id": "WTE_JsZwxkpq",
    "outputId": "f4282580-2b5f-4f92-8cc8-c2d444a90dce"
   },
   "outputs": [
    {
     "data": {
      "text/html": [
       "<div>\n",
       "<style scoped>\n",
       "    .dataframe tbody tr th:only-of-type {\n",
       "        vertical-align: middle;\n",
       "    }\n",
       "\n",
       "    .dataframe tbody tr th {\n",
       "        vertical-align: top;\n",
       "    }\n",
       "\n",
       "    .dataframe thead th {\n",
       "        text-align: right;\n",
       "    }\n",
       "</style>\n",
       "<table border=\"1\" class=\"dataframe\">\n",
       "  <thead>\n",
       "    <tr style=\"text-align: right;\">\n",
       "      <th></th>\n",
       "      <th>sample_id</th>\n",
       "      <th>time</th>\n",
       "      <th>coin_index</th>\n",
       "      <th>open</th>\n",
       "      <th>high</th>\n",
       "      <th>low</th>\n",
       "      <th>close</th>\n",
       "      <th>volume</th>\n",
       "      <th>quote_av</th>\n",
       "      <th>trades</th>\n",
       "      <th>tb_base_av</th>\n",
       "      <th>tb_quote_av</th>\n",
       "    </tr>\n",
       "  </thead>\n",
       "  <tbody>\n",
       "    <tr>\n",
       "      <th>0</th>\n",
       "      <td>0</td>\n",
       "      <td>0</td>\n",
       "      <td>7</td>\n",
       "      <td>1.000392</td>\n",
       "      <td>1.000588</td>\n",
       "      <td>1.000392</td>\n",
       "      <td>1.000588</td>\n",
       "      <td>8.305119e+05</td>\n",
       "      <td>42356.179688</td>\n",
       "      <td>137.308746</td>\n",
       "      <td>8.305119e+05</td>\n",
       "      <td>42356.179688</td>\n",
       "    </tr>\n",
       "    <tr>\n",
       "      <th>1</th>\n",
       "      <td>0</td>\n",
       "      <td>1</td>\n",
       "      <td>7</td>\n",
       "      <td>1.000588</td>\n",
       "      <td>1.001177</td>\n",
       "      <td>1.000392</td>\n",
       "      <td>1.001177</td>\n",
       "      <td>5.320066e+05</td>\n",
       "      <td>27140.638672</td>\n",
       "      <td>294.233032</td>\n",
       "      <td>4.882738e+05</td>\n",
       "      <td>24909.861328</td>\n",
       "    </tr>\n",
       "    <tr>\n",
       "      <th>2</th>\n",
       "      <td>0</td>\n",
       "      <td>2</td>\n",
       "      <td>7</td>\n",
       "      <td>1.001177</td>\n",
       "      <td>1.001177</td>\n",
       "      <td>1.001177</td>\n",
       "      <td>1.001177</td>\n",
       "      <td>5.113770e+05</td>\n",
       "      <td>26100.681641</td>\n",
       "      <td>58.846603</td>\n",
       "      <td>5.113770e+05</td>\n",
       "      <td>26100.681641</td>\n",
       "    </tr>\n",
       "    <tr>\n",
       "      <th>3</th>\n",
       "      <td>0</td>\n",
       "      <td>3</td>\n",
       "      <td>7</td>\n",
       "      <td>1.001177</td>\n",
       "      <td>1.001373</td>\n",
       "      <td>1.001177</td>\n",
       "      <td>1.001373</td>\n",
       "      <td>1.134853e+06</td>\n",
       "      <td>57929.410156</td>\n",
       "      <td>137.308746</td>\n",
       "      <td>1.095514e+06</td>\n",
       "      <td>55921.156250</td>\n",
       "    </tr>\n",
       "    <tr>\n",
       "      <th>4</th>\n",
       "      <td>0</td>\n",
       "      <td>4</td>\n",
       "      <td>7</td>\n",
       "      <td>1.000981</td>\n",
       "      <td>1.000981</td>\n",
       "      <td>0.999804</td>\n",
       "      <td>1.000196</td>\n",
       "      <td>5.801173e+06</td>\n",
       "      <td>295872.343750</td>\n",
       "      <td>666.928162</td>\n",
       "      <td>9.911239e+05</td>\n",
       "      <td>50528.589844</td>\n",
       "    </tr>\n",
       "  </tbody>\n",
       "</table>\n",
       "</div>"
      ],
      "text/plain": [
       "   sample_id  time  coin_index  ...      trades    tb_base_av   tb_quote_av\n",
       "0          0     0           7  ...  137.308746  8.305119e+05  42356.179688\n",
       "1          0     1           7  ...  294.233032  4.882738e+05  24909.861328\n",
       "2          0     2           7  ...   58.846603  5.113770e+05  26100.681641\n",
       "3          0     3           7  ...  137.308746  1.095514e+06  55921.156250\n",
       "4          0     4           7  ...  666.928162  9.911239e+05  50528.589844\n",
       "\n",
       "[5 rows x 12 columns]"
      ]
     },
     "execution_count": 142,
     "metadata": {
      "tags": []
     },
     "output_type": "execute_result"
    }
   ],
   "source": [
    "train_y_df.head()"
   ]
  },
  {
   "cell_type": "code",
   "execution_count": 143,
   "metadata": {
    "colab": {
     "base_uri": "https://localhost:8080/",
     "height": 195
    },
    "executionInfo": {
     "elapsed": 25444,
     "status": "ok",
     "timestamp": 1618217627333,
     "user": {
      "displayName": "전태양",
      "photoUrl": "",
      "userId": "11666989130411654523"
     },
     "user_tz": -540
    },
    "id": "_vTiWid-xkpr",
    "outputId": "52d27f70-6f00-42d9-daba-59f4720f0132"
   },
   "outputs": [
    {
     "data": {
      "text/html": [
       "<div>\n",
       "<style scoped>\n",
       "    .dataframe tbody tr th:only-of-type {\n",
       "        vertical-align: middle;\n",
       "    }\n",
       "\n",
       "    .dataframe tbody tr th {\n",
       "        vertical-align: top;\n",
       "    }\n",
       "\n",
       "    .dataframe thead th {\n",
       "        text-align: right;\n",
       "    }\n",
       "</style>\n",
       "<table border=\"1\" class=\"dataframe\">\n",
       "  <thead>\n",
       "    <tr style=\"text-align: right;\">\n",
       "      <th></th>\n",
       "      <th>sample_id</th>\n",
       "      <th>time</th>\n",
       "      <th>coin_index</th>\n",
       "      <th>open</th>\n",
       "      <th>high</th>\n",
       "      <th>low</th>\n",
       "      <th>close</th>\n",
       "      <th>volume</th>\n",
       "      <th>quote_av</th>\n",
       "      <th>trades</th>\n",
       "      <th>tb_base_av</th>\n",
       "      <th>tb_quote_av</th>\n",
       "    </tr>\n",
       "  </thead>\n",
       "  <tbody>\n",
       "    <tr>\n",
       "      <th>0</th>\n",
       "      <td>0</td>\n",
       "      <td>0</td>\n",
       "      <td>7</td>\n",
       "      <td>1.003541</td>\n",
       "      <td>1.007110</td>\n",
       "      <td>1.003541</td>\n",
       "      <td>1.006090</td>\n",
       "      <td>486928.96875</td>\n",
       "      <td>182543.687500</td>\n",
       "      <td>332.671570</td>\n",
       "      <td>287449.968750</td>\n",
       "      <td>107758.375000</td>\n",
       "    </tr>\n",
       "    <tr>\n",
       "      <th>1</th>\n",
       "      <td>0</td>\n",
       "      <td>1</td>\n",
       "      <td>7</td>\n",
       "      <td>1.006117</td>\n",
       "      <td>1.006331</td>\n",
       "      <td>1.004829</td>\n",
       "      <td>1.005634</td>\n",
       "      <td>824485.37500</td>\n",
       "      <td>309019.750000</td>\n",
       "      <td>407.790955</td>\n",
       "      <td>560290.250000</td>\n",
       "      <td>210005.125000</td>\n",
       "    </tr>\n",
       "    <tr>\n",
       "      <th>2</th>\n",
       "      <td>0</td>\n",
       "      <td>2</td>\n",
       "      <td>7</td>\n",
       "      <td>1.005929</td>\n",
       "      <td>1.005983</td>\n",
       "      <td>1.004266</td>\n",
       "      <td>1.005366</td>\n",
       "      <td>478614.56250</td>\n",
       "      <td>179301.843750</td>\n",
       "      <td>276.332031</td>\n",
       "      <td>214270.265625</td>\n",
       "      <td>80283.554688</td>\n",
       "    </tr>\n",
       "    <tr>\n",
       "      <th>3</th>\n",
       "      <td>0</td>\n",
       "      <td>3</td>\n",
       "      <td>7</td>\n",
       "      <td>1.005044</td>\n",
       "      <td>1.005956</td>\n",
       "      <td>1.004910</td>\n",
       "      <td>1.005795</td>\n",
       "      <td>334366.84375</td>\n",
       "      <td>125305.117188</td>\n",
       "      <td>166.335785</td>\n",
       "      <td>56401.246094</td>\n",
       "      <td>21135.490234</td>\n",
       "    </tr>\n",
       "    <tr>\n",
       "      <th>4</th>\n",
       "      <td>0</td>\n",
       "      <td>4</td>\n",
       "      <td>7</td>\n",
       "      <td>1.005580</td>\n",
       "      <td>1.006466</td>\n",
       "      <td>1.005285</td>\n",
       "      <td>1.005929</td>\n",
       "      <td>560916.68750</td>\n",
       "      <td>210316.796875</td>\n",
       "      <td>303.160370</td>\n",
       "      <td>138711.703125</td>\n",
       "      <td>52010.964844</td>\n",
       "    </tr>\n",
       "  </tbody>\n",
       "</table>\n",
       "</div>"
      ],
      "text/plain": [
       "   sample_id  time  coin_index  ...      trades     tb_base_av    tb_quote_av\n",
       "0          0     0           7  ...  332.671570  287449.968750  107758.375000\n",
       "1          0     1           7  ...  407.790955  560290.250000  210005.125000\n",
       "2          0     2           7  ...  276.332031  214270.265625   80283.554688\n",
       "3          0     3           7  ...  166.335785   56401.246094   21135.490234\n",
       "4          0     4           7  ...  303.160370  138711.703125   52010.964844\n",
       "\n",
       "[5 rows x 12 columns]"
      ]
     },
     "execution_count": 143,
     "metadata": {
      "tags": []
     },
     "output_type": "execute_result"
    }
   ],
   "source": [
    "test_x_df.head()"
   ]
  },
  {
   "cell_type": "markdown",
   "metadata": {
    "id": "HSCHM1Akxkpr"
   },
   "source": [
    "### 변수 설명\n",
    "\n",
    "|<center>변수명|<center>변수설명|\n",
    "|:------:|:-------:|\n",
    "|<center>**sample_id**| <center>개별 샘플의 인덱스|\n",
    "|<center>**time**|<center>x_df는 0분 ~ 1379분, y_df는 0분 ~ 119분의 값. 동일한 샘플 내 시간 정보|\n",
    "|<center>**coin_index**|<center>10가지 종류의 코인에 대한 비식별화 인덱스 (0 ~9)|\n",
    "|<center>**open**|<center>open price|\n",
    "|<center>**high**|<center>high price|\n",
    "|<center>**low**|<center>low price|\n",
    "|<center>**close**|<center>close price|\n",
    "|<center>**volume**|<center>거래량|\n",
    "|<center>**quote_av**|<center>quote asset volume|\n",
    "|<center>**trades**|<center>거래 건 수|\n",
    "|<center>**tb_base_av**|<center>taker buy base asset volume|\n",
    "|<center>**tb_quote_av**|<center>taker buy quote asset volume|"
   ]
  },
  {
   "cell_type": "code",
   "execution_count": 144,
   "metadata": {
    "colab": {
     "base_uri": "https://localhost:8080/"
    },
    "executionInfo": {
     "elapsed": 25437,
     "status": "ok",
     "timestamp": 1618217627334,
     "user": {
      "displayName": "전태양",
      "photoUrl": "",
      "userId": "11666989130411654523"
     },
     "user_tz": -540
    },
    "id": "yHAcgx9yxkpr",
    "outputId": "5af3a613-213c-4501-84e4-b6d1dc1f5126"
   },
   "outputs": [
    {
     "name": "stdout",
     "output_type": "stream",
     "text": [
      "<class 'pandas.core.frame.DataFrame'>\n",
      "RangeIndex: 10159560 entries, 0 to 10159559\n",
      "Data columns (total 12 columns):\n",
      " #   Column       Dtype  \n",
      "---  ------       -----  \n",
      " 0   sample_id    int64  \n",
      " 1   time         int64  \n",
      " 2   coin_index   int64  \n",
      " 3   open         float64\n",
      " 4   high         float64\n",
      " 5   low          float64\n",
      " 6   close        float64\n",
      " 7   volume       float64\n",
      " 8   quote_av     float64\n",
      " 9   trades       float64\n",
      " 10  tb_base_av   float64\n",
      " 11  tb_quote_av  float64\n",
      "dtypes: float64(9), int64(3)\n",
      "memory usage: 930.1 MB\n"
     ]
    }
   ],
   "source": [
    "train_x_df.info()"
   ]
  },
  {
   "cell_type": "code",
   "execution_count": 145,
   "metadata": {
    "colab": {
     "base_uri": "https://localhost:8080/"
    },
    "executionInfo": {
     "elapsed": 25430,
     "status": "ok",
     "timestamp": 1618217627335,
     "user": {
      "displayName": "전태양",
      "photoUrl": "",
      "userId": "11666989130411654523"
     },
     "user_tz": -540
    },
    "id": "aQxTMWYDxkps",
    "outputId": "9b40e78f-dcac-4970-d531-9057f2d40111"
   },
   "outputs": [
    {
     "name": "stdout",
     "output_type": "stream",
     "text": [
      "<class 'pandas.core.frame.DataFrame'>\n",
      "RangeIndex: 883440 entries, 0 to 883439\n",
      "Data columns (total 12 columns):\n",
      " #   Column       Non-Null Count   Dtype  \n",
      "---  ------       --------------   -----  \n",
      " 0   sample_id    883440 non-null  int64  \n",
      " 1   time         883440 non-null  int64  \n",
      " 2   coin_index   883440 non-null  int64  \n",
      " 3   open         883440 non-null  float64\n",
      " 4   high         883440 non-null  float64\n",
      " 5   low          883440 non-null  float64\n",
      " 6   close        883440 non-null  float64\n",
      " 7   volume       883440 non-null  float64\n",
      " 8   quote_av     883440 non-null  float64\n",
      " 9   trades       883440 non-null  float64\n",
      " 10  tb_base_av   883440 non-null  float64\n",
      " 11  tb_quote_av  883440 non-null  float64\n",
      "dtypes: float64(9), int64(3)\n",
      "memory usage: 80.9 MB\n"
     ]
    }
   ],
   "source": [
    "train_y_df.info()"
   ]
  },
  {
   "cell_type": "code",
   "execution_count": 146,
   "metadata": {
    "colab": {
     "base_uri": "https://localhost:8080/"
    },
    "executionInfo": {
     "elapsed": 25423,
     "status": "ok",
     "timestamp": 1618217627335,
     "user": {
      "displayName": "전태양",
      "photoUrl": "",
      "userId": "11666989130411654523"
     },
     "user_tz": -540
    },
    "id": "jGV3MAkOxkps",
    "outputId": "de9f207c-5a64-456f-a2e9-804149e0261e"
   },
   "outputs": [
    {
     "name": "stdout",
     "output_type": "stream",
     "text": [
      "<class 'pandas.core.frame.DataFrame'>\n",
      "RangeIndex: 730020 entries, 0 to 730019\n",
      "Data columns (total 12 columns):\n",
      " #   Column       Non-Null Count   Dtype  \n",
      "---  ------       --------------   -----  \n",
      " 0   sample_id    730020 non-null  int64  \n",
      " 1   time         730020 non-null  int64  \n",
      " 2   coin_index   730020 non-null  int64  \n",
      " 3   open         730020 non-null  float64\n",
      " 4   high         730020 non-null  float64\n",
      " 5   low          730020 non-null  float64\n",
      " 6   close        730020 non-null  float64\n",
      " 7   volume       730020 non-null  float64\n",
      " 8   quote_av     730020 non-null  float64\n",
      " 9   trades       730020 non-null  float64\n",
      " 10  tb_base_av   730020 non-null  float64\n",
      " 11  tb_quote_av  730020 non-null  float64\n",
      "dtypes: float64(9), int64(3)\n",
      "memory usage: 66.8 MB\n"
     ]
    }
   ],
   "source": [
    "test_x_df.info()"
   ]
  },
  {
   "cell_type": "code",
   "execution_count": 147,
   "metadata": {
    "colab": {
     "base_uri": "https://localhost:8080/",
     "height": 284
    },
    "executionInfo": {
     "elapsed": 29544,
     "status": "ok",
     "timestamp": 1618217631462,
     "user": {
      "displayName": "전태양",
      "photoUrl": "",
      "userId": "11666989130411654523"
     },
     "user_tz": -540
    },
    "id": "cLuFNSiZxkpt",
    "outputId": "02ddd1a6-1a3c-4e94-a7bb-dd67f720b688"
   },
   "outputs": [
    {
     "data": {
      "text/html": [
       "<div>\n",
       "<style scoped>\n",
       "    .dataframe tbody tr th:only-of-type {\n",
       "        vertical-align: middle;\n",
       "    }\n",
       "\n",
       "    .dataframe tbody tr th {\n",
       "        vertical-align: top;\n",
       "    }\n",
       "\n",
       "    .dataframe thead th {\n",
       "        text-align: right;\n",
       "    }\n",
       "</style>\n",
       "<table border=\"1\" class=\"dataframe\">\n",
       "  <thead>\n",
       "    <tr style=\"text-align: right;\">\n",
       "      <th></th>\n",
       "      <th>sample_id</th>\n",
       "      <th>time</th>\n",
       "      <th>coin_index</th>\n",
       "      <th>open</th>\n",
       "      <th>high</th>\n",
       "      <th>low</th>\n",
       "      <th>close</th>\n",
       "      <th>volume</th>\n",
       "      <th>quote_av</th>\n",
       "      <th>trades</th>\n",
       "      <th>tb_base_av</th>\n",
       "      <th>tb_quote_av</th>\n",
       "    </tr>\n",
       "  </thead>\n",
       "  <tbody>\n",
       "    <tr>\n",
       "      <th>count</th>\n",
       "      <td>1.015956e+07</td>\n",
       "      <td>1.015956e+07</td>\n",
       "      <td>1.015956e+07</td>\n",
       "      <td>1.015956e+07</td>\n",
       "      <td>1.015956e+07</td>\n",
       "      <td>1.015956e+07</td>\n",
       "      <td>1.015956e+07</td>\n",
       "      <td>1.015956e+07</td>\n",
       "      <td>1.015956e+07</td>\n",
       "      <td>1.015956e+07</td>\n",
       "      <td>1.015956e+07</td>\n",
       "      <td>1.015956e+07</td>\n",
       "    </tr>\n",
       "    <tr>\n",
       "      <th>mean</th>\n",
       "      <td>3.680500e+03</td>\n",
       "      <td>6.895000e+02</td>\n",
       "      <td>5.495925e+00</td>\n",
       "      <td>1.000988e+00</td>\n",
       "      <td>1.001753e+00</td>\n",
       "      <td>1.000196e+00</td>\n",
       "      <td>1.000980e+00</td>\n",
       "      <td>7.657862e+05</td>\n",
       "      <td>4.268907e+04</td>\n",
       "      <td>1.179676e+02</td>\n",
       "      <td>3.647911e+05</td>\n",
       "      <td>2.106137e+04</td>\n",
       "    </tr>\n",
       "    <tr>\n",
       "      <th>std</th>\n",
       "      <td>2.125226e+03</td>\n",
       "      <td>3.983716e+02</td>\n",
       "      <td>2.940005e+00</td>\n",
       "      <td>3.895120e-02</td>\n",
       "      <td>3.900216e-02</td>\n",
       "      <td>3.889973e-02</td>\n",
       "      <td>3.892255e-02</td>\n",
       "      <td>9.341042e+06</td>\n",
       "      <td>2.146420e+05</td>\n",
       "      <td>4.936206e+02</td>\n",
       "      <td>5.268894e+06</td>\n",
       "      <td>1.117901e+05</td>\n",
       "    </tr>\n",
       "    <tr>\n",
       "      <th>min</th>\n",
       "      <td>0.000000e+00</td>\n",
       "      <td>0.000000e+00</td>\n",
       "      <td>0.000000e+00</td>\n",
       "      <td>8.903663e-02</td>\n",
       "      <td>5.540227e-01</td>\n",
       "      <td>8.903663e-02</td>\n",
       "      <td>5.540227e-01</td>\n",
       "      <td>0.000000e+00</td>\n",
       "      <td>0.000000e+00</td>\n",
       "      <td>0.000000e+00</td>\n",
       "      <td>0.000000e+00</td>\n",
       "      <td>0.000000e+00</td>\n",
       "    </tr>\n",
       "    <tr>\n",
       "      <th>25%</th>\n",
       "      <td>1.840000e+03</td>\n",
       "      <td>3.447500e+02</td>\n",
       "      <td>4.000000e+00</td>\n",
       "      <td>9.871310e-01</td>\n",
       "      <td>9.878350e-01</td>\n",
       "      <td>9.863969e-01</td>\n",
       "      <td>9.871426e-01</td>\n",
       "      <td>5.047751e-02</td>\n",
       "      <td>3.126231e+01</td>\n",
       "      <td>7.715160e-02</td>\n",
       "      <td>5.671815e-03</td>\n",
       "      <td>1.066213e+01</td>\n",
       "    </tr>\n",
       "    <tr>\n",
       "      <th>50%</th>\n",
       "      <td>3.680500e+03</td>\n",
       "      <td>6.895000e+02</td>\n",
       "      <td>6.000000e+00</td>\n",
       "      <td>1.000000e+00</td>\n",
       "      <td>1.000556e+00</td>\n",
       "      <td>9.994500e-01</td>\n",
       "      <td>1.000000e+00</td>\n",
       "      <td>3.231240e+00</td>\n",
       "      <td>3.220208e+02</td>\n",
       "      <td>7.796185e-01</td>\n",
       "      <td>1.039115e+00</td>\n",
       "      <td>1.152704e+02</td>\n",
       "    </tr>\n",
       "    <tr>\n",
       "      <th>75%</th>\n",
       "      <td>5.521000e+03</td>\n",
       "      <td>1.034250e+03</td>\n",
       "      <td>8.000000e+00</td>\n",
       "      <td>1.012693e+00</td>\n",
       "      <td>1.013415e+00</td>\n",
       "      <td>1.011950e+00</td>\n",
       "      <td>1.012669e+00</td>\n",
       "      <td>4.258415e+04</td>\n",
       "      <td>1.254463e+04</td>\n",
       "      <td>5.641976e+01</td>\n",
       "      <td>9.016594e+03</td>\n",
       "      <td>4.863686e+03</td>\n",
       "    </tr>\n",
       "    <tr>\n",
       "      <th>max</th>\n",
       "      <td>7.361000e+03</td>\n",
       "      <td>1.379000e+03</td>\n",
       "      <td>9.000000e+00</td>\n",
       "      <td>2.066901e+00</td>\n",
       "      <td>4.451831e+00</td>\n",
       "      <td>2.066901e+00</td>\n",
       "      <td>2.066901e+00</td>\n",
       "      <td>7.398036e+09</td>\n",
       "      <td>3.705497e+07</td>\n",
       "      <td>6.257862e+04</td>\n",
       "      <td>7.340513e+09</td>\n",
       "      <td>2.320023e+07</td>\n",
       "    </tr>\n",
       "  </tbody>\n",
       "</table>\n",
       "</div>"
      ],
      "text/plain": [
       "          sample_id          time  ...    tb_base_av   tb_quote_av\n",
       "count  1.015956e+07  1.015956e+07  ...  1.015956e+07  1.015956e+07\n",
       "mean   3.680500e+03  6.895000e+02  ...  3.647911e+05  2.106137e+04\n",
       "std    2.125226e+03  3.983716e+02  ...  5.268894e+06  1.117901e+05\n",
       "min    0.000000e+00  0.000000e+00  ...  0.000000e+00  0.000000e+00\n",
       "25%    1.840000e+03  3.447500e+02  ...  5.671815e-03  1.066213e+01\n",
       "50%    3.680500e+03  6.895000e+02  ...  1.039115e+00  1.152704e+02\n",
       "75%    5.521000e+03  1.034250e+03  ...  9.016594e+03  4.863686e+03\n",
       "max    7.361000e+03  1.379000e+03  ...  7.340513e+09  2.320023e+07\n",
       "\n",
       "[8 rows x 12 columns]"
      ]
     },
     "execution_count": 147,
     "metadata": {
      "tags": []
     },
     "output_type": "execute_result"
    }
   ],
   "source": [
    "train_x_df.describe()"
   ]
  },
  {
   "cell_type": "code",
   "execution_count": 148,
   "metadata": {
    "colab": {
     "base_uri": "https://localhost:8080/",
     "height": 284
    },
    "executionInfo": {
     "elapsed": 29523,
     "status": "ok",
     "timestamp": 1618217631463,
     "user": {
      "displayName": "전태양",
      "photoUrl": "",
      "userId": "11666989130411654523"
     },
     "user_tz": -540
    },
    "id": "RpwDah7Uxkpt",
    "outputId": "7ba5df1f-a2ac-49b5-f182-b9e86bc33877"
   },
   "outputs": [
    {
     "data": {
      "text/html": [
       "<div>\n",
       "<style scoped>\n",
       "    .dataframe tbody tr th:only-of-type {\n",
       "        vertical-align: middle;\n",
       "    }\n",
       "\n",
       "    .dataframe tbody tr th {\n",
       "        vertical-align: top;\n",
       "    }\n",
       "\n",
       "    .dataframe thead th {\n",
       "        text-align: right;\n",
       "    }\n",
       "</style>\n",
       "<table border=\"1\" class=\"dataframe\">\n",
       "  <thead>\n",
       "    <tr style=\"text-align: right;\">\n",
       "      <th></th>\n",
       "      <th>sample_id</th>\n",
       "      <th>time</th>\n",
       "      <th>coin_index</th>\n",
       "      <th>open</th>\n",
       "      <th>high</th>\n",
       "      <th>low</th>\n",
       "      <th>close</th>\n",
       "      <th>volume</th>\n",
       "      <th>quote_av</th>\n",
       "      <th>trades</th>\n",
       "      <th>tb_base_av</th>\n",
       "      <th>tb_quote_av</th>\n",
       "    </tr>\n",
       "  </thead>\n",
       "  <tbody>\n",
       "    <tr>\n",
       "      <th>count</th>\n",
       "      <td>883440.000000</td>\n",
       "      <td>883440.000000</td>\n",
       "      <td>883440.000000</td>\n",
       "      <td>883440.000000</td>\n",
       "      <td>883440.000000</td>\n",
       "      <td>883440.000000</td>\n",
       "      <td>883440.000000</td>\n",
       "      <td>8.834400e+05</td>\n",
       "      <td>8.834400e+05</td>\n",
       "      <td>883440.000000</td>\n",
       "      <td>8.834400e+05</td>\n",
       "      <td>8.834400e+05</td>\n",
       "    </tr>\n",
       "    <tr>\n",
       "      <th>mean</th>\n",
       "      <td>3680.500000</td>\n",
       "      <td>59.500000</td>\n",
       "      <td>5.495925</td>\n",
       "      <td>1.000065</td>\n",
       "      <td>1.000832</td>\n",
       "      <td>0.999272</td>\n",
       "      <td>1.000059</td>\n",
       "      <td>7.399341e+05</td>\n",
       "      <td>4.162687e+04</td>\n",
       "      <td>115.143382</td>\n",
       "      <td>3.529742e+05</td>\n",
       "      <td>2.053159e+04</td>\n",
       "    </tr>\n",
       "    <tr>\n",
       "      <th>std</th>\n",
       "      <td>2125.227524</td>\n",
       "      <td>34.639833</td>\n",
       "      <td>2.940006</td>\n",
       "      <td>0.012062</td>\n",
       "      <td>0.012122</td>\n",
       "      <td>0.012172</td>\n",
       "      <td>0.012157</td>\n",
       "      <td>8.463690e+06</td>\n",
       "      <td>1.924362e+05</td>\n",
       "      <td>443.679342</td>\n",
       "      <td>4.836148e+06</td>\n",
       "      <td>1.019837e+05</td>\n",
       "    </tr>\n",
       "    <tr>\n",
       "      <th>min</th>\n",
       "      <td>0.000000</td>\n",
       "      <td>0.000000</td>\n",
       "      <td>0.000000</td>\n",
       "      <td>0.776689</td>\n",
       "      <td>0.778169</td>\n",
       "      <td>0.760567</td>\n",
       "      <td>0.774648</td>\n",
       "      <td>0.000000e+00</td>\n",
       "      <td>0.000000e+00</td>\n",
       "      <td>0.000000</td>\n",
       "      <td>0.000000e+00</td>\n",
       "      <td>0.000000e+00</td>\n",
       "    </tr>\n",
       "    <tr>\n",
       "      <th>25%</th>\n",
       "      <td>1840.000000</td>\n",
       "      <td>29.750000</td>\n",
       "      <td>4.000000</td>\n",
       "      <td>0.996483</td>\n",
       "      <td>0.997047</td>\n",
       "      <td>0.995809</td>\n",
       "      <td>0.996422</td>\n",
       "      <td>5.079032e-02</td>\n",
       "      <td>3.136911e+01</td>\n",
       "      <td>0.077189</td>\n",
       "      <td>5.787930e-03</td>\n",
       "      <td>1.067757e+01</td>\n",
       "    </tr>\n",
       "    <tr>\n",
       "      <th>50%</th>\n",
       "      <td>3680.500000</td>\n",
       "      <td>59.500000</td>\n",
       "      <td>6.000000</td>\n",
       "      <td>1.000000</td>\n",
       "      <td>1.000416</td>\n",
       "      <td>0.999541</td>\n",
       "      <td>1.000000</td>\n",
       "      <td>3.267469e+00</td>\n",
       "      <td>3.230985e+02</td>\n",
       "      <td>0.783415</td>\n",
       "      <td>1.043598e+00</td>\n",
       "      <td>1.159318e+02</td>\n",
       "    </tr>\n",
       "    <tr>\n",
       "      <th>75%</th>\n",
       "      <td>5521.000000</td>\n",
       "      <td>89.250000</td>\n",
       "      <td>8.000000</td>\n",
       "      <td>1.003615</td>\n",
       "      <td>1.004268</td>\n",
       "      <td>1.003031</td>\n",
       "      <td>1.003666</td>\n",
       "      <td>4.219783e+04</td>\n",
       "      <td>1.261572e+04</td>\n",
       "      <td>56.521740</td>\n",
       "      <td>8.772491e+03</td>\n",
       "      <td>4.886511e+03</td>\n",
       "    </tr>\n",
       "    <tr>\n",
       "      <th>max</th>\n",
       "      <td>7361.000000</td>\n",
       "      <td>119.000000</td>\n",
       "      <td>9.000000</td>\n",
       "      <td>1.243545</td>\n",
       "      <td>1.249481</td>\n",
       "      <td>1.231673</td>\n",
       "      <td>1.243545</td>\n",
       "      <td>2.085937e+09</td>\n",
       "      <td>1.323100e+07</td>\n",
       "      <td>44132.230469</td>\n",
       "      <td>1.908554e+09</td>\n",
       "      <td>8.438416e+06</td>\n",
       "    </tr>\n",
       "  </tbody>\n",
       "</table>\n",
       "</div>"
      ],
      "text/plain": [
       "           sample_id           time  ...    tb_base_av   tb_quote_av\n",
       "count  883440.000000  883440.000000  ...  8.834400e+05  8.834400e+05\n",
       "mean     3680.500000      59.500000  ...  3.529742e+05  2.053159e+04\n",
       "std      2125.227524      34.639833  ...  4.836148e+06  1.019837e+05\n",
       "min         0.000000       0.000000  ...  0.000000e+00  0.000000e+00\n",
       "25%      1840.000000      29.750000  ...  5.787930e-03  1.067757e+01\n",
       "50%      3680.500000      59.500000  ...  1.043598e+00  1.159318e+02\n",
       "75%      5521.000000      89.250000  ...  8.772491e+03  4.886511e+03\n",
       "max      7361.000000     119.000000  ...  1.908554e+09  8.438416e+06\n",
       "\n",
       "[8 rows x 12 columns]"
      ]
     },
     "execution_count": 148,
     "metadata": {
      "tags": []
     },
     "output_type": "execute_result"
    }
   ],
   "source": [
    "train_y_df.describe()"
   ]
  },
  {
   "cell_type": "code",
   "execution_count": 149,
   "metadata": {
    "colab": {
     "base_uri": "https://localhost:8080/",
     "height": 284
    },
    "executionInfo": {
     "elapsed": 29508,
     "status": "ok",
     "timestamp": 1618217631464,
     "user": {
      "displayName": "전태양",
      "photoUrl": "",
      "userId": "11666989130411654523"
     },
     "user_tz": -540
    },
    "id": "dfze84saxkpt",
    "outputId": "55e1e5ae-7f9c-444c-ad61-8a39b95071f2"
   },
   "outputs": [
    {
     "data": {
      "text/html": [
       "<div>\n",
       "<style scoped>\n",
       "    .dataframe tbody tr th:only-of-type {\n",
       "        vertical-align: middle;\n",
       "    }\n",
       "\n",
       "    .dataframe tbody tr th {\n",
       "        vertical-align: top;\n",
       "    }\n",
       "\n",
       "    .dataframe thead th {\n",
       "        text-align: right;\n",
       "    }\n",
       "</style>\n",
       "<table border=\"1\" class=\"dataframe\">\n",
       "  <thead>\n",
       "    <tr style=\"text-align: right;\">\n",
       "      <th></th>\n",
       "      <th>sample_id</th>\n",
       "      <th>time</th>\n",
       "      <th>coin_index</th>\n",
       "      <th>open</th>\n",
       "      <th>high</th>\n",
       "      <th>low</th>\n",
       "      <th>close</th>\n",
       "      <th>volume</th>\n",
       "      <th>quote_av</th>\n",
       "      <th>trades</th>\n",
       "      <th>tb_base_av</th>\n",
       "      <th>tb_quote_av</th>\n",
       "    </tr>\n",
       "  </thead>\n",
       "  <tbody>\n",
       "    <tr>\n",
       "      <th>count</th>\n",
       "      <td>730020.000000</td>\n",
       "      <td>730020.000000</td>\n",
       "      <td>730020.000000</td>\n",
       "      <td>730020.000000</td>\n",
       "      <td>730020.000000</td>\n",
       "      <td>730020.000000</td>\n",
       "      <td>730020.000000</td>\n",
       "      <td>7.300200e+05</td>\n",
       "      <td>7.300200e+05</td>\n",
       "      <td>730020.000000</td>\n",
       "      <td>7.300200e+05</td>\n",
       "      <td>7.300200e+05</td>\n",
       "    </tr>\n",
       "    <tr>\n",
       "      <th>mean</th>\n",
       "      <td>264.000000</td>\n",
       "      <td>689.500000</td>\n",
       "      <td>4.491493</td>\n",
       "      <td>0.991427</td>\n",
       "      <td>0.993138</td>\n",
       "      <td>0.989688</td>\n",
       "      <td>0.991434</td>\n",
       "      <td>7.801768e+05</td>\n",
       "      <td>1.992196e+05</td>\n",
       "      <td>313.488285</td>\n",
       "      <td>3.903638e+05</td>\n",
       "      <td>9.925072e+04</td>\n",
       "    </tr>\n",
       "    <tr>\n",
       "      <th>std</th>\n",
       "      <td>152.708978</td>\n",
       "      <td>398.371854</td>\n",
       "      <td>2.868319</td>\n",
       "      <td>0.066288</td>\n",
       "      <td>0.066522</td>\n",
       "      <td>0.066000</td>\n",
       "      <td>0.066239</td>\n",
       "      <td>3.738390e+06</td>\n",
       "      <td>8.574118e+05</td>\n",
       "      <td>977.688953</td>\n",
       "      <td>2.005648e+06</td>\n",
       "      <td>4.268118e+05</td>\n",
       "    </tr>\n",
       "    <tr>\n",
       "      <th>min</th>\n",
       "      <td>0.000000</td>\n",
       "      <td>0.000000</td>\n",
       "      <td>0.000000</td>\n",
       "      <td>0.607767</td>\n",
       "      <td>0.609716</td>\n",
       "      <td>0.606567</td>\n",
       "      <td>0.608217</td>\n",
       "      <td>0.000000e+00</td>\n",
       "      <td>0.000000e+00</td>\n",
       "      <td>0.000000</td>\n",
       "      <td>0.000000e+00</td>\n",
       "      <td>0.000000e+00</td>\n",
       "    </tr>\n",
       "    <tr>\n",
       "      <th>25%</th>\n",
       "      <td>132.000000</td>\n",
       "      <td>344.750000</td>\n",
       "      <td>2.000000</td>\n",
       "      <td>0.963017</td>\n",
       "      <td>0.964617</td>\n",
       "      <td>0.961381</td>\n",
       "      <td>0.963066</td>\n",
       "      <td>8.064378e-01</td>\n",
       "      <td>5.264895e+02</td>\n",
       "      <td>0.607591</td>\n",
       "      <td>3.648973e-01</td>\n",
       "      <td>2.334793e+02</td>\n",
       "    </tr>\n",
       "    <tr>\n",
       "      <th>50%</th>\n",
       "      <td>264.000000</td>\n",
       "      <td>689.500000</td>\n",
       "      <td>4.000000</td>\n",
       "      <td>0.995372</td>\n",
       "      <td>0.996856</td>\n",
       "      <td>0.993898</td>\n",
       "      <td>0.995397</td>\n",
       "      <td>3.989354e+02</td>\n",
       "      <td>5.109016e+03</td>\n",
       "      <td>9.878845</td>\n",
       "      <td>1.658845e+02</td>\n",
       "      <td>2.198869e+03</td>\n",
       "    </tr>\n",
       "    <tr>\n",
       "      <th>75%</th>\n",
       "      <td>396.000000</td>\n",
       "      <td>1034.250000</td>\n",
       "      <td>7.000000</td>\n",
       "      <td>1.021444</td>\n",
       "      <td>1.023017</td>\n",
       "      <td>1.019826</td>\n",
       "      <td>1.021421</td>\n",
       "      <td>3.602226e+05</td>\n",
       "      <td>9.049191e+04</td>\n",
       "      <td>268.041229</td>\n",
       "      <td>1.446413e+05</td>\n",
       "      <td>4.106598e+04</td>\n",
       "    </tr>\n",
       "    <tr>\n",
       "      <th>max</th>\n",
       "      <td>528.000000</td>\n",
       "      <td>1379.000000</td>\n",
       "      <td>9.000000</td>\n",
       "      <td>2.129188</td>\n",
       "      <td>2.167028</td>\n",
       "      <td>1.950575</td>\n",
       "      <td>2.129188</td>\n",
       "      <td>4.738079e+08</td>\n",
       "      <td>9.179647e+07</td>\n",
       "      <td>79387.242188</td>\n",
       "      <td>2.255709e+08</td>\n",
       "      <td>3.681243e+07</td>\n",
       "    </tr>\n",
       "  </tbody>\n",
       "</table>\n",
       "</div>"
      ],
      "text/plain": [
       "           sample_id           time  ...    tb_base_av   tb_quote_av\n",
       "count  730020.000000  730020.000000  ...  7.300200e+05  7.300200e+05\n",
       "mean      264.000000     689.500000  ...  3.903638e+05  9.925072e+04\n",
       "std       152.708978     398.371854  ...  2.005648e+06  4.268118e+05\n",
       "min         0.000000       0.000000  ...  0.000000e+00  0.000000e+00\n",
       "25%       132.000000     344.750000  ...  3.648973e-01  2.334793e+02\n",
       "50%       264.000000     689.500000  ...  1.658845e+02  2.198869e+03\n",
       "75%       396.000000    1034.250000  ...  1.446413e+05  4.106598e+04\n",
       "max       528.000000    1379.000000  ...  2.255709e+08  3.681243e+07\n",
       "\n",
       "[8 rows x 12 columns]"
      ]
     },
     "execution_count": 149,
     "metadata": {
      "tags": []
     },
     "output_type": "execute_result"
    }
   ],
   "source": [
    "test_x_df.describe()"
   ]
  },
  {
   "cell_type": "code",
   "execution_count": 150,
   "metadata": {
    "colab": {
     "base_uri": "https://localhost:8080/"
    },
    "executionInfo": {
     "elapsed": 29495,
     "status": "ok",
     "timestamp": 1618217631465,
     "user": {
      "displayName": "전태양",
      "photoUrl": "",
      "userId": "11666989130411654523"
     },
     "user_tz": -540
    },
    "id": "HPGTRKy0xkpu",
    "outputId": "63753a40-f172-4d95-e30f-f7bcb7e5d78e"
   },
   "outputs": [
    {
     "data": {
      "text/plain": [
       "(10159560, 12)"
      ]
     },
     "execution_count": 150,
     "metadata": {
      "tags": []
     },
     "output_type": "execute_result"
    }
   ],
   "source": [
    "train_x_df.shape"
   ]
  },
  {
   "cell_type": "markdown",
   "metadata": {
    "id": "D_ydCtqTxkpu"
   },
   "source": [
    "### 암호화폐별 분류"
   ]
  },
  {
   "cell_type": "markdown",
   "metadata": {
    "id": "KjKch_PAxkpu"
   },
   "source": [
    "- train_x데이터의 시간은 0~1379분까지 고유값은 7362개\n",
    "\n",
    "- train_y데이터의 시간은 0~119분까지 고유값은 7362개\n",
    "\n",
    "- test데이터의 시간은 0~1379분까지 고유값은 529개"
   ]
  },
  {
   "cell_type": "code",
   "execution_count": 151,
   "metadata": {
    "executionInfo": {
     "elapsed": 29485,
     "status": "ok",
     "timestamp": 1618217631465,
     "user": {
      "displayName": "전태양",
      "photoUrl": "",
      "userId": "11666989130411654523"
     },
     "user_tz": -540
    },
    "id": "QSQeiQqoxkpv"
   },
   "outputs": [],
   "source": [
    "def change_array(x) :\n",
    "    coin_idx = x.iloc[:,2:].shape[1]\n",
    "    time_idx = len(x.time.value_counts())\n",
    "    sample_idx = len(x.sample_id.value_counts())\n",
    "    array_df = x.iloc[:,2:].values.reshape([sample_idx,time_idx,coin_idx])\n",
    "    return array_df"
   ]
  },
  {
   "cell_type": "code",
   "execution_count": 152,
   "metadata": {
    "executionInfo": {
     "elapsed": 31595,
     "status": "ok",
     "timestamp": 1618217633579,
     "user": {
      "displayName": "전태양",
      "photoUrl": "",
      "userId": "11666989130411654523"
     },
     "user_tz": -540
    },
    "id": "rJrCWmDNxkpv"
   },
   "outputs": [],
   "source": [
    "train_x_array = change_array(train_x_df)\n",
    "train_y_array = change_array(train_y_df)\n",
    "test_x_array = change_array(test_x_df)"
   ]
  },
  {
   "cell_type": "markdown",
   "metadata": {
    "id": "N1mJJYr6xkpv"
   },
   "source": [
    "암호화폐 10개의 시간(컬럼)별 데이터 정리<br>\n",
    "(행(sample_idx), 열(시간),분단위 10가지 정보)"
   ]
  },
  {
   "cell_type": "code",
   "execution_count": 153,
   "metadata": {
    "colab": {
     "base_uri": "https://localhost:8080/"
    },
    "executionInfo": {
     "elapsed": 31590,
     "status": "ok",
     "timestamp": 1618217633580,
     "user": {
      "displayName": "전태양",
      "photoUrl": "",
      "userId": "11666989130411654523"
     },
     "user_tz": -540
    },
    "id": "qpClv6wcxkpv",
    "outputId": "174a4ee9-1af6-44c1-f716-78839511d0c2",
    "scrolled": true
   },
   "outputs": [
    {
     "name": "stdout",
     "output_type": "stream",
     "text": [
      "(7362, 1380, 10)\n",
      "(7362, 120, 10)\n",
      "(529, 1380, 10)\n"
     ]
    }
   ],
   "source": [
    "print(train_x_array.shape)\n",
    "print(train_y_array.shape)\n",
    "print(test_x_array.shape)"
   ]
  },
  {
   "cell_type": "markdown",
   "metadata": {
    "id": "97hAf__Wtwki"
   },
   "source": [
    "## 1번째 코인"
   ]
  },
  {
   "cell_type": "code",
   "execution_count": 154,
   "metadata": {
    "executionInfo": {
     "elapsed": 31585,
     "status": "ok",
     "timestamp": 1618217633581,
     "user": {
      "displayName": "전태양",
      "photoUrl": "",
      "userId": "11666989130411654523"
     },
     "user_tz": -540
    },
    "id": "V6k-XeWllpq7"
   },
   "outputs": [],
   "source": [
    "# 전체 시간 = train 전체 시간 + test 전체 시간\n",
    "def plot_series(x_series, y_series) :\n",
    "    plt.plot(x_series)\n",
    "    plt.plot(np.arange(len(x_series),len(y_series) + len(x_series)),y_series)\n"
   ]
  },
  {
   "cell_type": "code",
   "execution_count": 155,
   "metadata": {
    "executionInfo": {
     "elapsed": 31582,
     "status": "ok",
     "timestamp": 1618217633582,
     "user": {
      "displayName": "전태양",
      "photoUrl": "",
      "userId": "11666989130411654523"
     },
     "user_tz": -540
    },
    "id": "TsuZg13jt7PJ"
   },
   "outputs": [],
   "source": [
    "idx = 0 # sample_id\n",
    "idx_col = 1 # 1 : open , 2 : high\n",
    "x_series = train_x_array[idx,:,idx_col]\n",
    "y_series = train_y_array[idx,:,idx_col]\n"
   ]
  },
  {
   "cell_type": "code",
   "execution_count": 156,
   "metadata": {
    "colab": {
     "base_uri": "https://localhost:8080/",
     "height": 265
    },
    "executionInfo": {
     "elapsed": 31578,
     "status": "ok",
     "timestamp": 1618217633584,
     "user": {
      "displayName": "전태양",
      "photoUrl": "",
      "userId": "11666989130411654523"
     },
     "user_tz": -540
    },
    "id": "KfYXilu-t7W-",
    "outputId": "21cb8c6a-b959-4665-b2be-b30fc189ab01"
   },
   "outputs": [
    {
     "data": {
      "image/png": "[encoded data removed]",
      "text/plain": [
       "<Figure size 432x288 with 1 Axes>"
      ]
     },
     "metadata": {
      "needs_background": "light",
      "tags": []
     },
     "output_type": "display_data"
    }
   ],
   "source": [
    "# 1번째 코인 train,test 그래프\n",
    "plot_series(x_series,y_series)"
   ]
  },
  {
   "cell_type": "markdown",
   "metadata": {
    "id": "UPoDu-pkt-0j"
   },
   "source": [
    "### prophet\n",
    "\n",
    "- 시계열 예측 라이브러리 활용"
   ]
  },
  {
   "cell_type": "code",
   "execution_count": 157,
   "metadata": {
    "executionInfo": {
     "elapsed": 31573,
     "status": "ok",
     "timestamp": 1618217633585,
     "user": {
      "displayName": "전태양",
      "photoUrl": "",
      "userId": "11666989130411654523"
     },
     "user_tz": -540
    },
    "id": "37ETBtVbt7ZH"
   },
   "outputs": [],
   "source": [
    "# data 날짜 추가\n",
    "import datetime"
   ]
  },
  {
   "cell_type": "code",
   "execution_count": 158,
   "metadata": {
    "colab": {
     "base_uri": "https://localhost:8080/"
    },
    "executionInfo": {
     "elapsed": 31568,
     "status": "ok",
     "timestamp": 1618217633585,
     "user": {
      "displayName": "전태양",
      "photoUrl": "",
      "userId": "11666989130411654523"
     },
     "user_tz": -540
    },
    "id": "3Y6SLSQXt7bU",
    "outputId": "4b70a68c-e001-4280-a106-571fc0d146af"
   },
   "outputs": [
    {
     "name": "stdout",
     "output_type": "stream",
     "text": [
      "2020-12-31 00:00:00\n"
     ]
    }
   ],
   "source": [
    "start_time = \"2020-12-31 00:00:00\"\n",
    "time_start = datetime.datetime.strptime(start_time,\"%Y-%m-%d %H:%M:%S\")\n",
    "print(time_start)"
   ]
  },
  {
   "cell_type": "markdown",
   "metadata": {},
   "source": [
    "#### prophet을 사용하기 위해선 해당 데이터프레임 형태를 만들어줘야한다\n",
    "|ds|y|\n",
    "|---|---|\n",
    "|1번째시간|y(1)값|\n",
    "|2번째시간|y(2)값|\n",
    "|...시간|y(...)값|"
   ]
  },
  {
   "cell_type": "code",
   "execution_count": 159,
   "metadata": {
    "executionInfo": {
     "elapsed": 31564,
     "status": "ok",
     "timestamp": 1618217633586,
     "user": {
      "displayName": "전태양",
      "photoUrl": "",
      "userId": "11666989130411654523"
     },
     "user_tz": -540
    },
    "id": "LFFTMZWKypO4"
   },
   "outputs": [],
   "source": [
    "ts_df = pd.DataFrame()"
   ]
  },
  {
   "cell_type": "code",
   "execution_count": 160,
   "metadata": {
    "executionInfo": {
     "elapsed": 31558,
     "status": "ok",
     "timestamp": 1618217633586,
     "user": {
      "displayName": "전태양",
      "photoUrl": "",
      "userId": "11666989130411654523"
     },
     "user_tz": -540
    },
    "id": "8JjGft37ypcL"
   },
   "outputs": [],
   "source": [
    "# 시간 변수 추가\n",
    "ts_df['ds'] = [time_start + datetime.timedelta(minutes = min_time) for min_time in range(1,len(x_series)+1)]\n",
    "# y값 추가\n",
    "ts_df['y'] = x_series"
   ]
  },
  {
   "cell_type": "code",
   "execution_count": 161,
   "metadata": {
    "colab": {
     "base_uri": "https://localhost:8080/",
     "height": 195
    },
    "executionInfo": {
     "elapsed": 31553,
     "status": "ok",
     "timestamp": 1618217633587,
     "user": {
      "displayName": "전태양",
      "photoUrl": "",
      "userId": "11666989130411654523"
     },
     "user_tz": -540
    },
    "id": "mFdmVHz7ypoA",
    "outputId": "7571cdab-8a25-4714-d7aa-bbc3ae9dc5d0"
   },
   "outputs": [
    {
     "data": {
      "text/html": [
       "<div>\n",
       "<style scoped>\n",
       "    .dataframe tbody tr th:only-of-type {\n",
       "        vertical-align: middle;\n",
       "    }\n",
       "\n",
       "    .dataframe tbody tr th {\n",
       "        vertical-align: top;\n",
       "    }\n",
       "\n",
       "    .dataframe thead th {\n",
       "        text-align: right;\n",
       "    }\n",
       "</style>\n",
       "<table border=\"1\" class=\"dataframe\">\n",
       "  <thead>\n",
       "    <tr style=\"text-align: right;\">\n",
       "      <th></th>\n",
       "      <th>ds</th>\n",
       "      <th>y</th>\n",
       "    </tr>\n",
       "  </thead>\n",
       "  <tbody>\n",
       "    <tr>\n",
       "      <th>0</th>\n",
       "      <td>2020-12-31 00:01:00</td>\n",
       "      <td>1.010004</td>\n",
       "    </tr>\n",
       "    <tr>\n",
       "      <th>1</th>\n",
       "      <td>2020-12-31 00:02:00</td>\n",
       "      <td>1.009808</td>\n",
       "    </tr>\n",
       "    <tr>\n",
       "      <th>2</th>\n",
       "      <td>2020-12-31 00:03:00</td>\n",
       "      <td>1.009808</td>\n",
       "    </tr>\n",
       "    <tr>\n",
       "      <th>3</th>\n",
       "      <td>2020-12-31 00:04:00</td>\n",
       "      <td>1.010200</td>\n",
       "    </tr>\n",
       "    <tr>\n",
       "      <th>4</th>\n",
       "      <td>2020-12-31 00:05:00</td>\n",
       "      <td>1.010985</td>\n",
       "    </tr>\n",
       "  </tbody>\n",
       "</table>\n",
       "</div>"
      ],
      "text/plain": [
       "                   ds         y\n",
       "0 2020-12-31 00:01:00  1.010004\n",
       "1 2020-12-31 00:02:00  1.009808\n",
       "2 2020-12-31 00:03:00  1.009808\n",
       "3 2020-12-31 00:04:00  1.010200\n",
       "4 2020-12-31 00:05:00  1.010985"
      ]
     },
     "execution_count": 161,
     "metadata": {
      "tags": []
     },
     "output_type": "execute_result"
    }
   ],
   "source": [
    "ts_df.head()"
   ]
  },
  {
   "cell_type": "code",
   "execution_count": 162,
   "metadata": {
    "executionInfo": {
     "elapsed": 31548,
     "status": "ok",
     "timestamp": 1618217633587,
     "user": {
      "displayName": "전태양",
      "photoUrl": "",
      "userId": "11666989130411654523"
     },
     "user_tz": -540
    },
    "id": "-oI8HXYEypzl"
   },
   "outputs": [],
   "source": [
    "from fbprophet import Prophet"
   ]
  },
  {
   "cell_type": "code",
   "execution_count": 163,
   "metadata": {
    "colab": {
     "base_uri": "https://localhost:8080/"
    },
    "executionInfo": {
     "elapsed": 33006,
     "status": "ok",
     "timestamp": 1618217635050,
     "user": {
      "displayName": "전태양",
      "photoUrl": "",
      "userId": "11666989130411654523"
     },
     "user_tz": -540
    },
    "id": "tqkRZpI5yqFh",
    "outputId": "78c8315f-d902-4a75-bdc5-0478e61db897"
   },
   "outputs": [
    {
     "name": "stderr",
     "output_type": "stream",
     "text": [
      "INFO:fbprophet:Disabling yearly seasonality. Run prophet with yearly_seasonality=True to override this.\n",
      "INFO:fbprophet:Disabling weekly seasonality. Run prophet with weekly_seasonality=True to override this.\n",
      "INFO:fbprophet:Disabling daily seasonality. Run prophet with daily_seasonality=True to override this.\n"
     ]
    },
    {
     "data": {
      "text/plain": [
       "<fbprophet.forecaster.Prophet at 0x7fa9e71fda10>"
      ]
     },
     "execution_count": 163,
     "metadata": {
      "tags": []
     },
     "output_type": "execute_result"
    }
   ],
   "source": [
    "# prophet 모델 실행 : 아무 옵션도 추가 안함.\n",
    "m = Prophet()\n",
    "m.fit(ts_df)"
   ]
  },
  {
   "cell_type": "code",
   "execution_count": 164,
   "metadata": {
    "executionInfo": {
     "elapsed": 35499,
     "status": "ok",
     "timestamp": 1618217637549,
     "user": {
      "displayName": "전태양",
      "photoUrl": "",
      "userId": "11666989130411654523"
     },
     "user_tz": -540
    },
    "id": "McYK2OJIyqOI"
   },
   "outputs": [],
   "source": [
    "# 적합시킨 모델의 추 후 2시간의 예측값을 future에 할당\n",
    "future = m.make_future_dataframe(periods = 120, freq = 'min')\n",
    "forecast = m.predict(future)"
   ]
  },
  {
   "cell_type": "code",
   "execution_count": 165,
   "metadata": {
    "colab": {
     "base_uri": "https://localhost:8080/",
     "height": 441
    },
    "executionInfo": {
     "elapsed": 35494,
     "status": "ok",
     "timestamp": 1618217637550,
     "user": {
      "displayName": "전태양",
      "photoUrl": "",
      "userId": "11666989130411654523"
     },
     "user_tz": -540
    },
    "id": "L85brJ5OyqWe",
    "outputId": "b823d470-53de-4397-9f4f-42e1291f02f5"
   },
   "outputs": [
    {
     "data": {
      "image/png": "[encoded data removed]",
      "text/plain": [
       "<Figure size 720x432 with 1 Axes>"
      ]
     },
     "metadata": {
      "tags": []
     },
     "output_type": "display_data"
    }
   ],
   "source": [
    "fig1 = m.plot(forecast)"
   ]
  },
  {
   "cell_type": "markdown",
   "metadata": {},
   "source": [
    "얼추 맞는듯 보이지만 마지막 부분의 예측이 크게 빗나간다."
   ]
  },
  {
   "cell_type": "code",
   "execution_count": 166,
   "metadata": {
    "colab": {
     "base_uri": "https://localhost:8080/",
     "height": 225
    },
    "executionInfo": {
     "elapsed": 35488,
     "status": "ok",
     "timestamp": 1618217637551,
     "user": {
      "displayName": "전태양",
      "photoUrl": "",
      "userId": "11666989130411654523"
     },
     "user_tz": -540
    },
    "id": "IZJwci4GJhuQ",
    "outputId": "f98729c3-a474-4f2c-ef10-f66995745c3a"
   },
   "outputs": [
    {
     "data": {
      "image/png": "[encoded data removed]",
      "text/plain": [
       "<Figure size 648x216 with 1 Axes>"
      ]
     },
     "metadata": {
      "tags": []
     },
     "output_type": "display_data"
    }
   ],
   "source": [
    "fig2 = m.plot_components(forecast)"
   ]
  },
  {
   "cell_type": "code",
   "execution_count": 186,
   "metadata": {
    "executionInfo": {
     "elapsed": 851,
     "status": "ok",
     "timestamp": 1618219258330,
     "user": {
      "displayName": "전태양",
      "photoUrl": "",
      "userId": "11666989130411654523"
     },
     "user_tz": -540
    },
    "id": "pOP9o0kayqp0"
   },
   "outputs": [],
   "source": [
    "# 모델 파라미터 조절\n",
    "# 연간,주간,일간 계절성은 False\n",
    "model = Prophet(seasonality_mode = 'multiplicative', \n",
    "                yearly_seasonality = False,\n",
    "                weekly_seasonality = False,\n",
    "                daily_seasonality = False,\n",
    "                changepoint_prior_scale = 0.1 , # trend의 변동성을 조절, 너무 낮출 경우 underfitting, 높일 경우 overfitting \n",
    "                changepoint_range = 0.9) # overfitting을 피하기위해 train_data 80%만 사용"
   ]
  },
  {
   "cell_type": "code",
   "execution_count": 187,
   "metadata": {
    "colab": {
     "base_uri": "https://localhost:8080/"
    },
    "executionInfo": {
     "elapsed": 1646,
     "status": "ok",
     "timestamp": 1618219260912,
     "user": {
      "displayName": "전태양",
      "photoUrl": "",
      "userId": "11666989130411654523"
     },
     "user_tz": -540
    },
    "id": "agftPxYFHPOJ",
    "outputId": "ad31416a-528b-4303-b163-2e64d5358749"
   },
   "outputs": [
    {
     "data": {
      "text/plain": [
       "<fbprophet.forecaster.Prophet at 0x7fa9dcdf1dd0>"
      ]
     },
     "execution_count": 187,
     "metadata": {
      "tags": []
     },
     "output_type": "execute_result"
    }
   ],
   "source": [
    "# 조절한 모델\n",
    "model.fit(ts_df)"
   ]
  },
  {
   "cell_type": "code",
   "execution_count": 188,
   "metadata": {
    "executionInfo": {
     "elapsed": 2594,
     "status": "ok",
     "timestamp": 1618219266528,
     "user": {
      "displayName": "전태양",
      "photoUrl": "",
      "userId": "11666989130411654523"
     },
     "user_tz": -540
    },
    "id": "3s5aLZrZHPSU"
   },
   "outputs": [],
   "source": [
    "# 2시간의 예측 값을 future에 할당\n",
    "future = model.make_future_dataframe(periods = 120, freq = 'min')\n",
    "forecast = model.predict(future)"
   ]
  },
  {
   "cell_type": "code",
   "execution_count": 180,
   "metadata": {
    "colab": {
     "base_uri": "https://localhost:8080/",
     "height": 383
    },
    "executionInfo": {
     "elapsed": 583,
     "status": "ok",
     "timestamp": 1618218790860,
     "user": {
      "displayName": "전태양",
      "photoUrl": "",
      "userId": "11666989130411654523"
     },
     "user_tz": -540
    },
    "id": "_sCafQFrWvcm",
    "outputId": "d9fdbbd8-4bdd-463e-98fa-c3f76e384fce"
   },
   "outputs": [
    {
     "data": {
      "text/html": [
       "<div>\n",
       "<style scoped>\n",
       "    .dataframe tbody tr th:only-of-type {\n",
       "        vertical-align: middle;\n",
       "    }\n",
       "\n",
       "    .dataframe tbody tr th {\n",
       "        vertical-align: top;\n",
       "    }\n",
       "\n",
       "    .dataframe thead th {\n",
       "        text-align: right;\n",
       "    }\n",
       "</style>\n",
       "<table border=\"1\" class=\"dataframe\">\n",
       "  <thead>\n",
       "    <tr style=\"text-align: right;\">\n",
       "      <th></th>\n",
       "      <th>ds</th>\n",
       "      <th>trend</th>\n",
       "      <th>yhat_lower</th>\n",
       "      <th>yhat_upper</th>\n",
       "      <th>trend_lower</th>\n",
       "      <th>trend_upper</th>\n",
       "      <th>additive_terms</th>\n",
       "      <th>additive_terms_lower</th>\n",
       "      <th>additive_terms_upper</th>\n",
       "      <th>multiplicative_terms</th>\n",
       "      <th>multiplicative_terms_lower</th>\n",
       "      <th>multiplicative_terms_upper</th>\n",
       "      <th>yhat</th>\n",
       "    </tr>\n",
       "  </thead>\n",
       "  <tbody>\n",
       "    <tr>\n",
       "      <th>0</th>\n",
       "      <td>2020-12-31 00:01:00</td>\n",
       "      <td>1.014523</td>\n",
       "      <td>1.012215</td>\n",
       "      <td>1.016687</td>\n",
       "      <td>1.014523</td>\n",
       "      <td>1.014523</td>\n",
       "      <td>0.0</td>\n",
       "      <td>0.0</td>\n",
       "      <td>0.0</td>\n",
       "      <td>0.0</td>\n",
       "      <td>0.0</td>\n",
       "      <td>0.0</td>\n",
       "      <td>1.014523</td>\n",
       "    </tr>\n",
       "    <tr>\n",
       "      <th>1</th>\n",
       "      <td>2020-12-31 00:02:00</td>\n",
       "      <td>1.014305</td>\n",
       "      <td>1.012092</td>\n",
       "      <td>1.016483</td>\n",
       "      <td>1.014305</td>\n",
       "      <td>1.014305</td>\n",
       "      <td>0.0</td>\n",
       "      <td>0.0</td>\n",
       "      <td>0.0</td>\n",
       "      <td>0.0</td>\n",
       "      <td>0.0</td>\n",
       "      <td>0.0</td>\n",
       "      <td>1.014305</td>\n",
       "    </tr>\n",
       "    <tr>\n",
       "      <th>2</th>\n",
       "      <td>2020-12-31 00:03:00</td>\n",
       "      <td>1.014088</td>\n",
       "      <td>1.011711</td>\n",
       "      <td>1.016365</td>\n",
       "      <td>1.014088</td>\n",
       "      <td>1.014088</td>\n",
       "      <td>0.0</td>\n",
       "      <td>0.0</td>\n",
       "      <td>0.0</td>\n",
       "      <td>0.0</td>\n",
       "      <td>0.0</td>\n",
       "      <td>0.0</td>\n",
       "      <td>1.014088</td>\n",
       "    </tr>\n",
       "    <tr>\n",
       "      <th>3</th>\n",
       "      <td>2020-12-31 00:04:00</td>\n",
       "      <td>1.013871</td>\n",
       "      <td>1.011497</td>\n",
       "      <td>1.016158</td>\n",
       "      <td>1.013871</td>\n",
       "      <td>1.013871</td>\n",
       "      <td>0.0</td>\n",
       "      <td>0.0</td>\n",
       "      <td>0.0</td>\n",
       "      <td>0.0</td>\n",
       "      <td>0.0</td>\n",
       "      <td>0.0</td>\n",
       "      <td>1.013871</td>\n",
       "    </tr>\n",
       "    <tr>\n",
       "      <th>4</th>\n",
       "      <td>2020-12-31 00:05:00</td>\n",
       "      <td>1.013653</td>\n",
       "      <td>1.011116</td>\n",
       "      <td>1.016161</td>\n",
       "      <td>1.013653</td>\n",
       "      <td>1.013653</td>\n",
       "      <td>0.0</td>\n",
       "      <td>0.0</td>\n",
       "      <td>0.0</td>\n",
       "      <td>0.0</td>\n",
       "      <td>0.0</td>\n",
       "      <td>0.0</td>\n",
       "      <td>1.013653</td>\n",
       "    </tr>\n",
       "  </tbody>\n",
       "</table>\n",
       "</div>"
      ],
      "text/plain": [
       "                   ds     trend  ...  multiplicative_terms_upper      yhat\n",
       "0 2020-12-31 00:01:00  1.014523  ...                         0.0  1.014523\n",
       "1 2020-12-31 00:02:00  1.014305  ...                         0.0  1.014305\n",
       "2 2020-12-31 00:03:00  1.014088  ...                         0.0  1.014088\n",
       "3 2020-12-31 00:04:00  1.013871  ...                         0.0  1.013871\n",
       "4 2020-12-31 00:05:00  1.013653  ...                         0.0  1.013653\n",
       "\n",
       "[5 rows x 13 columns]"
      ]
     },
     "execution_count": 180,
     "metadata": {
      "tags": []
     },
     "output_type": "execute_result"
    }
   ],
   "source": [
    "forecast.head()"
   ]
  },
  {
   "cell_type": "code",
   "execution_count": 189,
   "metadata": {
    "colab": {
     "base_uri": "https://localhost:8080/",
     "height": 441
    },
    "executionInfo": {
     "elapsed": 1555,
     "status": "ok",
     "timestamp": 1618219271235,
     "user": {
      "displayName": "전태양",
      "photoUrl": "",
      "userId": "11666989130411654523"
     },
     "user_tz": -540
    },
    "id": "CWr-1pzEHPXK",
    "outputId": "946d548b-0818-4ec9-9a41-ff8e88471ef5"
   },
   "outputs": [
    {
     "data": {
      "image/png": "[encoded data removed]",
      "text/plain": [
       "<Figure size 720x432 with 1 Axes>"
      ]
     },
     "metadata": {
      "tags": []
     },
     "output_type": "display_data"
    }
   ],
   "source": [
    "# mulitplicative, train 범위 조절, trend scale 조절\n",
    "# 아직 계절성 추가를 안해줌, 시간 별 계절성을 어떻게 추가할지 고민해볼것(add_seasonality)\n",
    "fig1 = model.plot(forecast)"
   ]
  },
  {
   "cell_type": "markdown",
   "metadata": {},
   "source": [
    "아무 조절 없을때에 비해 정확한 모습을 보인다."
   ]
  },
  {
   "cell_type": "code",
   "execution_count": 178,
   "metadata": {
    "colab": {
     "base_uri": "https://localhost:8080/",
     "height": 225
    },
    "executionInfo": {
     "elapsed": 896,
     "status": "ok",
     "timestamp": 1618218709225,
     "user": {
      "displayName": "전태양",
      "photoUrl": "",
      "userId": "11666989130411654523"
     },
     "user_tz": -540
    },
    "id": "RvP6sSnIHPZe",
    "outputId": "0ed2a228-8247-4064-e30c-c81b4ecec7e7"
   },
   "outputs": [
    {
     "data": {
      "image/png": "[encoded data removed]",
      "text/plain": [
       "<Figure size 648x216 with 1 Axes>"
      ]
     },
     "metadata": {
      "tags": []
     },
     "output_type": "display_data"
    }
   ],
   "source": [
    "fig2 = model.plot_components(forecast)"
   ]
  }
 ],
 "metadata": {
  "accelerator": "GPU",
  "colab": {
   "collapsed_sections": [],
   "name": "Bitcoin Trader.ipynb의 사본",
   "provenance": [
    {
     "file_id": "https://github.com/JEONSUN/Daycon_Project-Bitcoin-Trader/blob/main/Bitcoin%20Trader.ipynb",
     "timestamp": 1616581660536
    }
   ]
  },
  "kernelspec": {
   "display_name": "Python 3",
   "language": "python",
   "name": "python3"
  },
  "language_info": {
   "codemirror_mode": {
    "name": "ipython",
    "version": 3
   },
   "file_extension": ".py",
   "mimetype": "text/x-python",
   "name": "python",
   "nbconvert_exporter": "python",
   "pygments_lexer": "ipython3",
   "version": "3.7.3"
  }
 },
 "nbformat": 4,
 "nbformat_minor": 1
}
